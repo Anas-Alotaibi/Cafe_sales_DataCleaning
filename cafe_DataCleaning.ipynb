{
 "cells": [
  {
   "cell_type": "code",
   "execution_count": 301,
   "id": "694691a5",
   "metadata": {},
   "outputs": [],
   "source": [
    "import pandas as pd\n",
    "import numpy as np "
   ]
  },
  {
   "cell_type": "code",
   "execution_count": 302,
   "id": "720199fb",
   "metadata": {},
   "outputs": [],
   "source": [
    "cafe_original = pd.read_csv(r'C:\\Users\\anws5\\OneDrive\\Documents\\Python_projects\\data_cleaning_project\\dirty_cafe_sales.csv')\n",
    "df = cafe_original.copy()\n"
   ]
  },
  {
   "cell_type": "markdown",
   "id": "81d0c2ae",
   "metadata": {},
   "source": [
    "##  Initial Exploration\n",
    "\n",
    "Before diving into cleaning or analysis, we'll take an initial look at the dataset to understand its  content, and potential issues.\n"
   ]
  },
  {
   "cell_type": "code",
   "execution_count": 303,
   "id": "ac43d287",
   "metadata": {},
   "outputs": [
    {
     "data": {
      "text/html": [
       "<div>\n",
       "<style scoped>\n",
       "    .dataframe tbody tr th:only-of-type {\n",
       "        vertical-align: middle;\n",
       "    }\n",
       "\n",
       "    .dataframe tbody tr th {\n",
       "        vertical-align: top;\n",
       "    }\n",
       "\n",
       "    .dataframe thead th {\n",
       "        text-align: right;\n",
       "    }\n",
       "</style>\n",
       "<table border=\"1\" class=\"dataframe\">\n",
       "  <thead>\n",
       "    <tr style=\"text-align: right;\">\n",
       "      <th></th>\n",
       "      <th>Transaction ID</th>\n",
       "      <th>Item</th>\n",
       "      <th>Quantity</th>\n",
       "      <th>Price Per Unit</th>\n",
       "      <th>Total Spent</th>\n",
       "      <th>Payment Method</th>\n",
       "      <th>Location</th>\n",
       "      <th>Transaction Date</th>\n",
       "    </tr>\n",
       "  </thead>\n",
       "  <tbody>\n",
       "    <tr>\n",
       "      <th>0</th>\n",
       "      <td>TXN_1961373</td>\n",
       "      <td>Coffee</td>\n",
       "      <td>2</td>\n",
       "      <td>2.0</td>\n",
       "      <td>4.0</td>\n",
       "      <td>Credit Card</td>\n",
       "      <td>Takeaway</td>\n",
       "      <td>2023-09-08</td>\n",
       "    </tr>\n",
       "    <tr>\n",
       "      <th>1</th>\n",
       "      <td>TXN_4977031</td>\n",
       "      <td>Cake</td>\n",
       "      <td>4</td>\n",
       "      <td>3.0</td>\n",
       "      <td>12.0</td>\n",
       "      <td>Cash</td>\n",
       "      <td>In-store</td>\n",
       "      <td>2023-05-16</td>\n",
       "    </tr>\n",
       "    <tr>\n",
       "      <th>2</th>\n",
       "      <td>TXN_4271903</td>\n",
       "      <td>Cookie</td>\n",
       "      <td>4</td>\n",
       "      <td>1.0</td>\n",
       "      <td>ERROR</td>\n",
       "      <td>Credit Card</td>\n",
       "      <td>In-store</td>\n",
       "      <td>2023-07-19</td>\n",
       "    </tr>\n",
       "    <tr>\n",
       "      <th>3</th>\n",
       "      <td>TXN_7034554</td>\n",
       "      <td>Salad</td>\n",
       "      <td>2</td>\n",
       "      <td>5.0</td>\n",
       "      <td>10.0</td>\n",
       "      <td>UNKNOWN</td>\n",
       "      <td>UNKNOWN</td>\n",
       "      <td>2023-04-27</td>\n",
       "    </tr>\n",
       "    <tr>\n",
       "      <th>4</th>\n",
       "      <td>TXN_3160411</td>\n",
       "      <td>Coffee</td>\n",
       "      <td>2</td>\n",
       "      <td>2.0</td>\n",
       "      <td>4.0</td>\n",
       "      <td>Digital Wallet</td>\n",
       "      <td>In-store</td>\n",
       "      <td>2023-06-11</td>\n",
       "    </tr>\n",
       "  </tbody>\n",
       "</table>\n",
       "</div>"
      ],
      "text/plain": [
       "  Transaction ID    Item Quantity Price Per Unit Total Spent  Payment Method  \\\n",
       "0    TXN_1961373  Coffee        2            2.0         4.0     Credit Card   \n",
       "1    TXN_4977031    Cake        4            3.0        12.0            Cash   \n",
       "2    TXN_4271903  Cookie        4            1.0       ERROR     Credit Card   \n",
       "3    TXN_7034554   Salad        2            5.0        10.0         UNKNOWN   \n",
       "4    TXN_3160411  Coffee        2            2.0         4.0  Digital Wallet   \n",
       "\n",
       "   Location Transaction Date  \n",
       "0  Takeaway       2023-09-08  \n",
       "1  In-store       2023-05-16  \n",
       "2  In-store       2023-07-19  \n",
       "3   UNKNOWN       2023-04-27  \n",
       "4  In-store       2023-06-11  "
      ]
     },
     "execution_count": 303,
     "metadata": {},
     "output_type": "execute_result"
    }
   ],
   "source": [
    "df.head(5)"
   ]
  },
  {
   "cell_type": "code",
   "execution_count": 304,
   "id": "04ce2412",
   "metadata": {},
   "outputs": [
    {
     "data": {
      "text/plain": [
       "(10000, 8)"
      ]
     },
     "execution_count": 304,
     "metadata": {},
     "output_type": "execute_result"
    }
   ],
   "source": [
    "df.shape"
   ]
  },
  {
   "cell_type": "code",
   "execution_count": 305,
   "id": "02eaf9f3",
   "metadata": {},
   "outputs": [
    {
     "data": {
      "text/plain": [
       "Index(['Transaction_id', 'Item', 'Quantity', 'Price_per_unit', 'Total_spent',\n",
       "       'Payment_method', 'Location', 'Transaction_date'],\n",
       "      dtype='object')"
      ]
     },
     "execution_count": 305,
     "metadata": {},
     "output_type": "execute_result"
    }
   ],
   "source": [
    "df.columns = df.columns.str.replace(' ' , '_').str.capitalize()\n",
    "df.columns"
   ]
  },
  {
   "cell_type": "markdown",
   "id": "d660614c",
   "metadata": {},
   "source": [
    "We can see there is some issue with the dataset but what I will do is clean the dataset column by column, starting from left to right.  \n",
    "This method ensures that we understand the nature and quality of each field individually before applying any transformations. "
   ]
  },
  {
   "cell_type": "markdown",
   "id": "cf9a4ced",
   "metadata": {},
   "source": [
    "## Let's begin by examining the `Transaction_id` column"
   ]
  },
  {
   "cell_type": "code",
   "execution_count": 306,
   "id": "5a46c719",
   "metadata": {},
   "outputs": [
    {
     "data": {
      "text/plain": [
       "dtype('O')"
      ]
     },
     "execution_count": 306,
     "metadata": {},
     "output_type": "execute_result"
    }
   ],
   "source": [
    "df['Transaction_id'].dtypes"
   ]
  },
  {
   "cell_type": "code",
   "execution_count": 307,
   "id": "6278b5ce",
   "metadata": {},
   "outputs": [
    {
     "data": {
      "text/plain": [
       "0"
      ]
     },
     "execution_count": 307,
     "metadata": {},
     "output_type": "execute_result"
    }
   ],
   "source": [
    "df['Transaction_id'].isna().sum()"
   ]
  },
  {
   "cell_type": "code",
   "execution_count": 308,
   "id": "7d83b833",
   "metadata": {},
   "outputs": [
    {
     "data": {
      "text/plain": [
       "0"
      ]
     },
     "execution_count": 308,
     "metadata": {},
     "output_type": "execute_result"
    }
   ],
   "source": [
    "df['Transaction_id'].duplicated().sum()"
   ]
  },
  {
   "cell_type": "markdown",
   "id": "3d2e6665",
   "metadata": {},
   "source": [
    "## Moving on to the next column: `Item`\n"
   ]
  },
  {
   "cell_type": "code",
   "execution_count": 309,
   "id": "991ca2e6",
   "metadata": {},
   "outputs": [
    {
     "data": {
      "text/plain": [
       "dtype('O')"
      ]
     },
     "execution_count": 309,
     "metadata": {},
     "output_type": "execute_result"
    }
   ],
   "source": [
    "df['Item'].dtypes"
   ]
  },
  {
   "cell_type": "code",
   "execution_count": 310,
   "id": "5e5b0272",
   "metadata": {},
   "outputs": [
    {
     "data": {
      "text/plain": [
       "Item\n",
       "Juice       1171\n",
       "Coffee      1165\n",
       "Salad       1148\n",
       "Cake        1139\n",
       "Sandwich    1131\n",
       "Smoothie    1096\n",
       "Cookie      1092\n",
       "Tea         1089\n",
       "UNKNOWN      344\n",
       "ERROR        292\n",
       "Name: count, dtype: int64"
      ]
     },
     "execution_count": 310,
     "metadata": {},
     "output_type": "execute_result"
    }
   ],
   "source": [
    "df['Item'].value_counts()"
   ]
  },
  {
   "cell_type": "code",
   "execution_count": 311,
   "id": "bda21f56",
   "metadata": {},
   "outputs": [
    {
     "data": {
      "text/plain": [
       "333"
      ]
     },
     "execution_count": 311,
     "metadata": {},
     "output_type": "execute_result"
    }
   ],
   "source": [
    "df['Item'].isna().sum()"
   ]
  },
  {
   "cell_type": "markdown",
   "id": "0a6f4535",
   "metadata": {},
   "source": [
    "### Fixing Invalid `Item` Values Based on `Price_per_unit`\n",
    "\n",
    "Some rows contain invalid or missing values in the `Item` column (e.g., \"UNKNOWN\", \"ERROR\", or NaN).  \n",
    "We replaced them based on their `Price_per_unit` value only if the price clearly matches a single known item.  \n",
    "Prices associated with multiple items (e.g., 4.0 → Smoothie/Sandwich) were not imputed to avoid incorrect assumptions.\n"
   ]
  },
  {
   "cell_type": "code",
   "execution_count": 312,
   "id": "85331572",
   "metadata": {},
   "outputs": [
    {
     "data": {
      "text/html": [
       "<div>\n",
       "<style scoped>\n",
       "    .dataframe tbody tr th:only-of-type {\n",
       "        vertical-align: middle;\n",
       "    }\n",
       "\n",
       "    .dataframe tbody tr th {\n",
       "        vertical-align: top;\n",
       "    }\n",
       "\n",
       "    .dataframe thead th {\n",
       "        text-align: right;\n",
       "    }\n",
       "</style>\n",
       "<table border=\"1\" class=\"dataframe\">\n",
       "  <thead>\n",
       "    <tr style=\"text-align: right;\">\n",
       "      <th></th>\n",
       "      <th>Transaction_id</th>\n",
       "      <th>Item</th>\n",
       "      <th>Quantity</th>\n",
       "      <th>Price_per_unit</th>\n",
       "      <th>Total_spent</th>\n",
       "      <th>Payment_method</th>\n",
       "      <th>Location</th>\n",
       "      <th>Transaction_date</th>\n",
       "    </tr>\n",
       "  </thead>\n",
       "  <tbody>\n",
       "    <tr>\n",
       "      <th>0</th>\n",
       "      <td>TXN_1961373</td>\n",
       "      <td>Coffee</td>\n",
       "      <td>2</td>\n",
       "      <td>2.0</td>\n",
       "      <td>4.0</td>\n",
       "      <td>Credit Card</td>\n",
       "      <td>Takeaway</td>\n",
       "      <td>2023-09-08</td>\n",
       "    </tr>\n",
       "    <tr>\n",
       "      <th>1</th>\n",
       "      <td>TXN_4977031</td>\n",
       "      <td>Cake</td>\n",
       "      <td>4</td>\n",
       "      <td>3.0</td>\n",
       "      <td>12.0</td>\n",
       "      <td>Cash</td>\n",
       "      <td>In-store</td>\n",
       "      <td>2023-05-16</td>\n",
       "    </tr>\n",
       "    <tr>\n",
       "      <th>2</th>\n",
       "      <td>TXN_4271903</td>\n",
       "      <td>Cookie</td>\n",
       "      <td>4</td>\n",
       "      <td>1.0</td>\n",
       "      <td>ERROR</td>\n",
       "      <td>Credit Card</td>\n",
       "      <td>In-store</td>\n",
       "      <td>2023-07-19</td>\n",
       "    </tr>\n",
       "    <tr>\n",
       "      <th>3</th>\n",
       "      <td>TXN_7034554</td>\n",
       "      <td>Salad</td>\n",
       "      <td>2</td>\n",
       "      <td>5.0</td>\n",
       "      <td>10.0</td>\n",
       "      <td>UNKNOWN</td>\n",
       "      <td>UNKNOWN</td>\n",
       "      <td>2023-04-27</td>\n",
       "    </tr>\n",
       "    <tr>\n",
       "      <th>5</th>\n",
       "      <td>TXN_2602893</td>\n",
       "      <td>Smoothie</td>\n",
       "      <td>5</td>\n",
       "      <td>4.0</td>\n",
       "      <td>20.0</td>\n",
       "      <td>Credit Card</td>\n",
       "      <td>NaN</td>\n",
       "      <td>2023-03-31</td>\n",
       "    </tr>\n",
       "    <tr>\n",
       "      <th>6</th>\n",
       "      <td>TXN_4433211</td>\n",
       "      <td>UNKNOWN</td>\n",
       "      <td>3</td>\n",
       "      <td>3.0</td>\n",
       "      <td>9.0</td>\n",
       "      <td>ERROR</td>\n",
       "      <td>Takeaway</td>\n",
       "      <td>2023-10-06</td>\n",
       "    </tr>\n",
       "    <tr>\n",
       "      <th>7</th>\n",
       "      <td>TXN_6699534</td>\n",
       "      <td>Sandwich</td>\n",
       "      <td>4</td>\n",
       "      <td>4.0</td>\n",
       "      <td>16.0</td>\n",
       "      <td>Cash</td>\n",
       "      <td>UNKNOWN</td>\n",
       "      <td>2023-10-28</td>\n",
       "    </tr>\n",
       "    <tr>\n",
       "      <th>14</th>\n",
       "      <td>TXN_8915701</td>\n",
       "      <td>ERROR</td>\n",
       "      <td>2</td>\n",
       "      <td>1.5</td>\n",
       "      <td>3.0</td>\n",
       "      <td>NaN</td>\n",
       "      <td>In-store</td>\n",
       "      <td>2023-03-21</td>\n",
       "    </tr>\n",
       "    <tr>\n",
       "      <th>17</th>\n",
       "      <td>TXN_6769710</td>\n",
       "      <td>Juice</td>\n",
       "      <td>2</td>\n",
       "      <td>3.0</td>\n",
       "      <td>6.0</td>\n",
       "      <td>Cash</td>\n",
       "      <td>In-store</td>\n",
       "      <td>2023-02-24</td>\n",
       "    </tr>\n",
       "    <tr>\n",
       "      <th>42</th>\n",
       "      <td>TXN_6650263</td>\n",
       "      <td>Tea</td>\n",
       "      <td>2</td>\n",
       "      <td>1.5</td>\n",
       "      <td>UNKNOWN</td>\n",
       "      <td>NaN</td>\n",
       "      <td>Takeaway</td>\n",
       "      <td>2023-01-10</td>\n",
       "    </tr>\n",
       "  </tbody>\n",
       "</table>\n",
       "</div>"
      ],
      "text/plain": [
       "   Transaction_id      Item Quantity Price_per_unit Total_spent  \\\n",
       "0     TXN_1961373    Coffee        2            2.0         4.0   \n",
       "1     TXN_4977031      Cake        4            3.0        12.0   \n",
       "2     TXN_4271903    Cookie        4            1.0       ERROR   \n",
       "3     TXN_7034554     Salad        2            5.0        10.0   \n",
       "5     TXN_2602893  Smoothie        5            4.0        20.0   \n",
       "6     TXN_4433211   UNKNOWN        3            3.0         9.0   \n",
       "7     TXN_6699534  Sandwich        4            4.0        16.0   \n",
       "14    TXN_8915701     ERROR        2            1.5         3.0   \n",
       "17    TXN_6769710     Juice        2            3.0         6.0   \n",
       "42    TXN_6650263       Tea        2            1.5     UNKNOWN   \n",
       "\n",
       "   Payment_method  Location Transaction_date  \n",
       "0     Credit Card  Takeaway       2023-09-08  \n",
       "1            Cash  In-store       2023-05-16  \n",
       "2     Credit Card  In-store       2023-07-19  \n",
       "3         UNKNOWN   UNKNOWN       2023-04-27  \n",
       "5     Credit Card       NaN       2023-03-31  \n",
       "6           ERROR  Takeaway       2023-10-06  \n",
       "7            Cash   UNKNOWN       2023-10-28  \n",
       "14            NaN  In-store       2023-03-21  \n",
       "17           Cash  In-store       2023-02-24  \n",
       "42            NaN  Takeaway       2023-01-10  "
      ]
     },
     "execution_count": 312,
     "metadata": {},
     "output_type": "execute_result"
    }
   ],
   "source": [
    "df.groupby('Item').head(1) # to see each item  price\n"
   ]
  },
  {
   "cell_type": "code",
   "execution_count": 313,
   "id": "b4f3edef",
   "metadata": {},
   "outputs": [
    {
     "data": {
      "text/plain": [
       "Item\n",
       "Cake                               [3.0, nan, UNKNOWN, ERROR]\n",
       "Coffee                             [2.0, nan, ERROR, UNKNOWN]\n",
       "Cookie                             [1.0, UNKNOWN, nan, ERROR]\n",
       "ERROR       [1.5, 3.0, 5.0, nan, 4.0, 2.0, 1.0, UNKNOWN, E...\n",
       "Juice                              [3.0, nan, UNKNOWN, ERROR]\n",
       "Salad                              [5.0, ERROR, UNKNOWN, nan]\n",
       "Sandwich                           [4.0, nan, ERROR, UNKNOWN]\n",
       "Smoothie                           [4.0, nan, UNKNOWN, ERROR]\n",
       "Tea                                [1.5, nan, ERROR, UNKNOWN]\n",
       "UNKNOWN     [3.0, 1.0, 5.0, 4.0, 1.5, 2.0, nan, UNKNOWN, E...\n",
       "Name: Price_per_unit, dtype: object"
      ]
     },
     "execution_count": 313,
     "metadata": {},
     "output_type": "execute_result"
    }
   ],
   "source": [
    "df.groupby('Item')['Price_per_unit'].unique() \n"
   ]
  },
  {
   "cell_type": "markdown",
   "id": "be87d851",
   "metadata": {},
   "source": [
    "###  Fixing Incorrect or Inconsistent Prices\n",
    "\n",
    "Some items are associated with multiple inconsistent prices, including invalid entries like 'ERROR' and 'UNKNOWN'.\n",
    "\n",
    "To ensure consistency, we manually mapped each known item to its correct price and updated the `Price_per_unit` column accordingly.\n"
   ]
  },
  {
   "cell_type": "code",
   "execution_count": 314,
   "id": "140609ef",
   "metadata": {},
   "outputs": [],
   "source": [
    "fixed_prices = {\n",
    "    'Coffee': 2.0,\n",
    "    'Cake': 3.0,\n",
    "    'Cookie': 1.0,\n",
    "    'Salad': 5.0,\n",
    "    'Smoothie': 4.0,\n",
    "    'Sandwich': 4.0,\n",
    "    'Juice': 3.0,\n",
    "    'Tea': 1.5\n",
    "}\n",
    "def correct_price(row):\n",
    "    item = row['Item']\n",
    "    if item in fixed_prices:\n",
    "        return fixed_prices[item]\n",
    "    else:\n",
    "        return row['Price_per_unit']\n",
    "df['Price_per_unit'] = df.apply(correct_price, axis=1)\n"
   ]
  },
  {
   "cell_type": "code",
   "execution_count": 315,
   "id": "bc1baeb5",
   "metadata": {},
   "outputs": [
    {
     "data": {
      "text/plain": [
       "Item\n",
       "Cake                                                    [3.0]\n",
       "Coffee                                                  [2.0]\n",
       "Cookie                                                  [1.0]\n",
       "ERROR       [1.5, 3.0, 5.0, nan, 4.0, 2.0, 1.0, UNKNOWN, E...\n",
       "Juice                                                   [3.0]\n",
       "Salad                                                   [5.0]\n",
       "Sandwich                                                [4.0]\n",
       "Smoothie                                                [4.0]\n",
       "Tea                                                     [1.5]\n",
       "UNKNOWN     [3.0, 1.0, 5.0, 4.0, 1.5, 2.0, nan, UNKNOWN, E...\n",
       "Name: Price_per_unit, dtype: object"
      ]
     },
     "execution_count": 315,
     "metadata": {},
     "output_type": "execute_result"
    }
   ],
   "source": [
    "df.groupby('Item')['Price_per_unit'].unique()\n"
   ]
  },
  {
   "cell_type": "code",
   "execution_count": 316,
   "id": "2d92c000",
   "metadata": {},
   "outputs": [],
   "source": [
    "invalid_items = ['UNKNOWN', 'ERROR']\n",
    "df['Item'] = df['Item'].replace(invalid_items, np.nan)\n",
    "\n",
    "price_to_items = {\n",
    "    2.0: 'Coffee',\n",
    "    3.0: None,       \n",
    "    1.0: 'Cookie',\n",
    "    5.0: 'Salad',\n",
    "    4.0: None,       \n",
    "    1.5: 'Tea'\n",
    "}\n",
    "def infer_item(price):\n",
    "    try:\n",
    "        price = float(price)\n",
    "        item = price_to_items.get(price)\n",
    "        return item\n",
    "    except:\n",
    "        return None\n",
    "df['Item'] = df.apply(\n",
    "    lambda row: infer_item(row['Price_per_unit']) if pd.isna(row['Item']) else row['Item'],\n",
    "    axis=1\n",
    ")\n"
   ]
  },
  {
   "cell_type": "code",
   "execution_count": 317,
   "id": "ab694816",
   "metadata": {},
   "outputs": [
    {
     "data": {
      "text/plain": [
       "Item\n",
       "Coffee      1284\n",
       "Salad       1270\n",
       "Cookie      1209\n",
       "Tea         1199\n",
       "Juice       1171\n",
       "Cake        1139\n",
       "Sandwich    1131\n",
       "Smoothie    1096\n",
       "Name: count, dtype: int64"
      ]
     },
     "execution_count": 317,
     "metadata": {},
     "output_type": "execute_result"
    }
   ],
   "source": [
    "df['Item'].value_counts()"
   ]
  },
  {
   "cell_type": "code",
   "execution_count": 318,
   "id": "df17008f",
   "metadata": {},
   "outputs": [
    {
     "data": {
      "text/plain": [
       "501"
      ]
     },
     "execution_count": 318,
     "metadata": {},
     "output_type": "execute_result"
    }
   ],
   "source": [
    "df['Item'].isna().sum()"
   ]
  },
  {
   "cell_type": "markdown",
   "id": "8ce9959a",
   "metadata": {},
   "source": [
    "At first glance, it may seem that the number of missing values has increased.  \n",
    "However, this is because we replaced placeholder values such as `\"UNKNOWN\"` and `\"ERROR\"` with proper `NaN` values.  \n",
    "Originally, the combined total of `\"UNKNOWN\"`, `\"ERROR\"`, and `NaN` entries was **969**, and after standardizing, the missing values are now correctly represented as **501 NaNs**.\n"
   ]
  },
  {
   "cell_type": "code",
   "execution_count": 319,
   "id": "ddac251f",
   "metadata": {},
   "outputs": [],
   "source": [
    "df['Item'] = df['Item'].astype('category')"
   ]
  },
  {
   "cell_type": "markdown",
   "id": "4b15aeda",
   "metadata": {},
   "source": [
    "## Moving on to the next column: `Quantity` , `Price_per_unit` and `Total_spent`\n"
   ]
  },
  {
   "cell_type": "code",
   "execution_count": 320,
   "id": "ccabba6f",
   "metadata": {},
   "outputs": [
    {
     "data": {
      "text/plain": [
       "dtype('O')"
      ]
     },
     "execution_count": 320,
     "metadata": {},
     "output_type": "execute_result"
    }
   ],
   "source": [
    "df['Quantity'].dtypes"
   ]
  },
  {
   "cell_type": "code",
   "execution_count": 321,
   "id": "c1432e8a",
   "metadata": {},
   "outputs": [
    {
     "data": {
      "text/plain": [
       "Quantity\n",
       "5          2013\n",
       "2          1974\n",
       "4          1863\n",
       "3          1849\n",
       "1          1822\n",
       "UNKNOWN     171\n",
       "ERROR       170\n",
       "Name: count, dtype: int64"
      ]
     },
     "execution_count": 321,
     "metadata": {},
     "output_type": "execute_result"
    }
   ],
   "source": [
    "df['Quantity'].value_counts()"
   ]
  },
  {
   "cell_type": "code",
   "execution_count": 322,
   "id": "9109fbbc",
   "metadata": {},
   "outputs": [
    {
     "data": {
      "text/plain": [
       "138"
      ]
     },
     "execution_count": 322,
     "metadata": {},
     "output_type": "execute_result"
    }
   ],
   "source": [
    "df['Quantity'].isna().sum()"
   ]
  },
  {
   "cell_type": "markdown",
   "id": "6ed718cf",
   "metadata": {},
   "source": [
    "### Fixing Invalid or Inconsistent `Quantity` Values\n",
    "\n",
    "Some entries in the `Quantity` column may be missing or inconsistent with the corresponding `Total_spent` and `Price_per_unit` values.  \n",
    "To correct this, we recalculated `Quantity` using the formula `Total_spent / Price_per_unit` .\n"
   ]
  },
  {
   "cell_type": "code",
   "execution_count": 323,
   "id": "7f893b60",
   "metadata": {},
   "outputs": [],
   "source": [
    "df['Quantity'] = df['Quantity'].replace(['UNKNOWN', 'ERROR'], np.nan)\n",
    "df['Quantity'] = pd.to_numeric(df['Quantity'], errors='coerce').astype('Int64')\n",
    "\n",
    "df['Total_spent'] = df['Total_spent'].replace(['UNKNOWN', 'ERROR'], np.nan)\n",
    "df['Total_spent'] = pd.to_numeric(df['Total_spent'], errors='coerce').astype('Float64')\n",
    "\n",
    "df['Price_per_unit'] = pd.to_numeric(df['Price_per_unit'], errors='coerce').astype('Float64')\n"
   ]
  },
  {
   "cell_type": "code",
   "execution_count": 324,
   "id": "01ab22c6",
   "metadata": {},
   "outputs": [
    {
     "name": "stdout",
     "output_type": "stream",
     "text": [
      "502\n",
      "54\n"
     ]
    }
   ],
   "source": [
    "print(df['Total_spent'].isna().sum())\n",
    "print(df['Price_per_unit'].isna().sum())"
   ]
  },
  {
   "cell_type": "code",
   "execution_count": 325,
   "id": "2cb3dd9d",
   "metadata": {},
   "outputs": [],
   "source": [
    "df['Total_spent'] = (df['Quantity'] * df['Price_per_unit']).where(\n",
    "    lambda x: ~x.isna(), df['Total_spent']\n",
    ")\n",
    "\n",
    "df['Price_per_unit'] = (df['Total_spent'] / df['Quantity']).where(\n",
    "    lambda x: ~x.isna(), df['Price_per_unit']\n",
    ")"
   ]
  },
  {
   "cell_type": "code",
   "execution_count": 326,
   "id": "f171388c",
   "metadata": {},
   "outputs": [
    {
     "name": "stdout",
     "output_type": "stream",
     "text": [
      "23\n",
      "6\n"
     ]
    }
   ],
   "source": [
    "print(df['Total_spent'].isna().sum())\n",
    "print(df['Price_per_unit'].isna().sum())"
   ]
  },
  {
   "cell_type": "code",
   "execution_count": 327,
   "id": "ca87068b",
   "metadata": {},
   "outputs": [
    {
     "data": {
      "text/plain": [
       "479"
      ]
     },
     "execution_count": 327,
     "metadata": {},
     "output_type": "execute_result"
    }
   ],
   "source": [
    "df['Quantity'].isna().sum()"
   ]
  },
  {
   "cell_type": "code",
   "execution_count": 328,
   "id": "61ce8efc",
   "metadata": {},
   "outputs": [],
   "source": [
    "df['Quantity'] = (df['Total_spent'] / df['Price_per_unit']).where(\n",
    "    lambda x: ~x.isna(), df['Quantity']\n",
    ")"
   ]
  },
  {
   "cell_type": "code",
   "execution_count": 329,
   "id": "15fb4e8a",
   "metadata": {},
   "outputs": [
    {
     "data": {
      "text/plain": [
       "23"
      ]
     },
     "execution_count": 329,
     "metadata": {},
     "output_type": "execute_result"
    }
   ],
   "source": [
    "df['Quantity'].isna().sum()"
   ]
  },
  {
   "cell_type": "markdown",
   "id": "0adfad7b",
   "metadata": {},
   "source": [
    "## Moving on to the next column: `Payment_method`\n"
   ]
  },
  {
   "cell_type": "code",
   "execution_count": 330,
   "id": "048d9f67",
   "metadata": {},
   "outputs": [
    {
     "data": {
      "text/plain": [
       "dtype('O')"
      ]
     },
     "execution_count": 330,
     "metadata": {},
     "output_type": "execute_result"
    }
   ],
   "source": [
    "df['Payment_method'].dtypes"
   ]
  },
  {
   "cell_type": "code",
   "execution_count": 331,
   "id": "5312596b",
   "metadata": {},
   "outputs": [
    {
     "data": {
      "text/plain": [
       "Payment_method\n",
       "Digital Wallet    2291\n",
       "Credit Card       2273\n",
       "Cash              2258\n",
       "ERROR              306\n",
       "UNKNOWN            293\n",
       "Name: count, dtype: int64"
      ]
     },
     "execution_count": 331,
     "metadata": {},
     "output_type": "execute_result"
    }
   ],
   "source": [
    "df['Payment_method'].value_counts()"
   ]
  },
  {
   "cell_type": "code",
   "execution_count": 332,
   "id": "2d2b0e59",
   "metadata": {},
   "outputs": [
    {
     "data": {
      "text/plain": [
       "2579"
      ]
     },
     "execution_count": 332,
     "metadata": {},
     "output_type": "execute_result"
    }
   ],
   "source": [
    "df['Payment_method'].isna().sum()"
   ]
  },
  {
   "cell_type": "code",
   "execution_count": 333,
   "id": "fa413fa4",
   "metadata": {},
   "outputs": [],
   "source": [
    "df['Payment_method'] = df['Payment_method'].replace(['ERROR', 'UNKNOWN'], pd.NA)\n"
   ]
  },
  {
   "cell_type": "markdown",
   "id": "b8d4db4d",
   "metadata": {},
   "source": [
    "### Handling Missing Values in `Payment_method`\n",
    "\n",
    "Although the three valid payment methods (`Digital Wallet`, `Credit Card`, and `Cash`) are nearly equally distributed, the proportion of missing values is relatively large.  \n",
    "Given this balance and to avoid introducing potential bias, we decided **not** to impute the missing values using the mode.  \n",
    "Instead, we retained them as `NaN`, preserving the integrity of the original dataset.\n"
   ]
  },
  {
   "cell_type": "code",
   "execution_count": 334,
   "id": "58a0e45a",
   "metadata": {},
   "outputs": [],
   "source": [
    "df['Payment_method'] = df['Payment_method'].astype('category')"
   ]
  },
  {
   "cell_type": "markdown",
   "id": "8547cb4f",
   "metadata": {},
   "source": [
    "## Moving on to the next column: `Location`\n"
   ]
  },
  {
   "cell_type": "code",
   "execution_count": 335,
   "id": "02b96360",
   "metadata": {},
   "outputs": [
    {
     "data": {
      "text/plain": [
       "dtype('O')"
      ]
     },
     "execution_count": 335,
     "metadata": {},
     "output_type": "execute_result"
    }
   ],
   "source": [
    "df['Location'].dtypes"
   ]
  },
  {
   "cell_type": "code",
   "execution_count": 336,
   "id": "ab1bf58d",
   "metadata": {},
   "outputs": [
    {
     "data": {
      "text/plain": [
       "Location\n",
       "Takeaway    3022\n",
       "In-store    3017\n",
       "ERROR        358\n",
       "UNKNOWN      338\n",
       "Name: count, dtype: int64"
      ]
     },
     "execution_count": 336,
     "metadata": {},
     "output_type": "execute_result"
    }
   ],
   "source": [
    "df['Location'].value_counts()"
   ]
  },
  {
   "cell_type": "code",
   "execution_count": 337,
   "id": "fc3749d5",
   "metadata": {},
   "outputs": [
    {
     "data": {
      "text/plain": [
       "3265"
      ]
     },
     "execution_count": 337,
     "metadata": {},
     "output_type": "execute_result"
    }
   ],
   "source": [
    "df['Location'].isna().sum()"
   ]
  },
  {
   "cell_type": "code",
   "execution_count": 338,
   "id": "764b86f4",
   "metadata": {},
   "outputs": [],
   "source": [
    "df['Location'] = df['Location'].replace(['ERROR' , 'UNKNOWN'], pd.NA)"
   ]
  },
  {
   "cell_type": "markdown",
   "id": "e92b5d42",
   "metadata": {},
   "source": [
    "### Handling Missing Values in `Location`\n",
    "\n",
    "The `Location` column contains two valid categories (`Takeaway` and `In-store`) with an almost even distribution.  \n",
    "Due to this balance and the relatively high number of missing entries, we chose **not** to impute the missing values using the mode.  \n",
    "Instead, we left them as `NaN` to maintain the neutrality of the dataset and avoid introducing any unintended bias."
   ]
  },
  {
   "cell_type": "code",
   "execution_count": 339,
   "id": "da683136",
   "metadata": {},
   "outputs": [],
   "source": [
    "df['Location'] = df['Location'].astype('category')"
   ]
  },
  {
   "cell_type": "markdown",
   "id": "0b206fc5",
   "metadata": {},
   "source": [
    "## Moving on to the next column: `Transaction_date`\n"
   ]
  },
  {
   "cell_type": "code",
   "execution_count": 340,
   "id": "20a30044",
   "metadata": {},
   "outputs": [
    {
     "data": {
      "text/plain": [
       "dtype('O')"
      ]
     },
     "execution_count": 340,
     "metadata": {},
     "output_type": "execute_result"
    }
   ],
   "source": [
    "df['Transaction_date'].dtypes"
   ]
  },
  {
   "cell_type": "markdown",
   "id": "50308648",
   "metadata": {},
   "source": [
    "This column contains dates, but they are not properly formatted and are currently being read as `object` instead of `datetime`, which prevents proper analysis and manipulation.  \n",
    "At first glance, the dates appear to be separated by `-`, but we'll first check if there are any other common separators before proceeding with the conversion.\n"
   ]
  },
  {
   "cell_type": "code",
   "execution_count": 341,
   "id": "ac166537",
   "metadata": {},
   "outputs": [
    {
     "name": "stdout",
     "output_type": "stream",
     "text": [
      "9540\n",
      "0\n",
      "0\n"
     ]
    }
   ],
   "source": [
    "print(df['Transaction_date'].str.contains('-').sum())\n",
    "print(df['Transaction_date'].str.contains('/').sum())\n",
    "print(df['Transaction_date'].str.contains(' ').sum())"
   ]
  },
  {
   "cell_type": "code",
   "execution_count": 342,
   "id": "4e12bb77",
   "metadata": {},
   "outputs": [
    {
     "data": {
      "text/plain": [
       "460"
      ]
     },
     "execution_count": 342,
     "metadata": {},
     "output_type": "execute_result"
    }
   ],
   "source": [
    "df['Transaction_date'] = df['Transaction_date'].replace(['ERROR' , 'UNKNOWN'], pd.NA)\n",
    "df['Transaction_date'].isna().sum()"
   ]
  },
  {
   "cell_type": "code",
   "execution_count": 343,
   "id": "c9987d86",
   "metadata": {},
   "outputs": [],
   "source": [
    "df['Transaction_date'] = pd.to_datetime(df['Transaction_date'], errors='coerce')\n"
   ]
  },
  {
   "cell_type": "code",
   "execution_count": 344,
   "id": "2c769055",
   "metadata": {},
   "outputs": [
    {
     "data": {
      "text/plain": [
       "460"
      ]
     },
     "execution_count": 344,
     "metadata": {},
     "output_type": "execute_result"
    }
   ],
   "source": [
    "df['Transaction_date'].isna().sum()"
   ]
  },
  {
   "cell_type": "code",
   "execution_count": 345,
   "id": "4244aaa7",
   "metadata": {},
   "outputs": [
    {
     "data": {
      "text/plain": [
       "0"
      ]
     },
     "execution_count": 345,
     "metadata": {},
     "output_type": "execute_result"
    }
   ],
   "source": [
    "df.duplicated().sum()"
   ]
  },
  {
   "cell_type": "code",
   "execution_count": 346,
   "id": "2fc9153b",
   "metadata": {},
   "outputs": [
    {
     "data": {
      "text/plain": [
       "Transaction_id         0\n",
       "Item                 501\n",
       "Quantity              23\n",
       "Price_per_unit         6\n",
       "Total_spent           23\n",
       "Payment_method      3178\n",
       "Location            3961\n",
       "Transaction_date     460\n",
       "dtype: int64"
      ]
     },
     "execution_count": 346,
     "metadata": {},
     "output_type": "execute_result"
    }
   ],
   "source": [
    "df.isna().sum()"
   ]
  },
  {
   "cell_type": "code",
   "execution_count": 347,
   "id": "24b46ae1",
   "metadata": {},
   "outputs": [],
   "source": [
    "df.dropna(subset=['Item','Quantity' , 'Price_per_unit' , 'Total_spent'] , inplace= True)"
   ]
  },
  {
   "cell_type": "code",
   "execution_count": 348,
   "id": "df458ec5",
   "metadata": {},
   "outputs": [
    {
     "data": {
      "text/plain": [
       "Transaction_id         0\n",
       "Item                   0\n",
       "Quantity               0\n",
       "Price_per_unit         0\n",
       "Total_spent            0\n",
       "Payment_method      3015\n",
       "Location            3753\n",
       "Transaction_date     435\n",
       "dtype: int64"
      ]
     },
     "execution_count": 348,
     "metadata": {},
     "output_type": "execute_result"
    }
   ],
   "source": [
    "df.isna().sum()"
   ]
  }
 ],
 "metadata": {
  "kernelspec": {
   "display_name": "base",
   "language": "python",
   "name": "python3"
  },
  "language_info": {
   "codemirror_mode": {
    "name": "ipython",
    "version": 3
   },
   "file_extension": ".py",
   "mimetype": "text/x-python",
   "name": "python",
   "nbconvert_exporter": "python",
   "pygments_lexer": "ipython3",
   "version": "3.12.7"
  }
 },
 "nbformat": 4,
 "nbformat_minor": 5
}
